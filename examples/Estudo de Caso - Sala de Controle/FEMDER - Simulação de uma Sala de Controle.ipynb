{
 "cells": [
  {
   "cell_type": "markdown",
   "metadata": {},
   "source": [
    "# FEMDER - Simulação de uma Sala de Controle"
   ]
  },
  {
   "cell_type": "code",
   "execution_count": null,
   "metadata": {},
   "outputs": [],
   "source": [
    "import sys\n",
    "import femder as fd\n",
    "import numpy as np\n",
    "import matplotlib.pyplot as plt\n",
    "\n",
    "\n",
    "path_to_geo = \"Geom/room_clean.geo\"\n",
    "AP = fd.AirProperties(c0 = 343)\n",
    "AC = fd.AlgControls(AP,20,200,1)\n",
    "\n",
    "S = fd.Source(\"spherical\")\n",
    "\n",
    "S.coord = np.array([[-1,2.25,1.2],[1,2.25,1.2]])\n",
    "S.q = np.array([[0.0001],[0.0001]])\n",
    "\n",
    "R = fd.Receiver()\n",
    "R.star([0,1,1.2],0.15)\n",
    "\n",
    "BC = fd.BC(AC,AP)\n",
    "BC.normalized_admittance(2,0.02)\n",
    "grid = fd.GridImport3D(AP,path_to_geo,S,R,fmax = 200,num_freq=6,scale=1,order=1)\n",
    "obj = fd.FEM3D(grid,S,R,AP,AC,BC)\n"
   ]
  },
  {
   "cell_type": "code",
   "execution_count": null,
   "metadata": {},
   "outputs": [],
   "source": [
    "obj.plot_problem(saveFig=False,camera_angles=['diagonal_front'],extension='png')"
   ]
  },
  {
   "cell_type": "code",
   "execution_count": null,
   "metadata": {},
   "outputs": [],
   "source": [
    "obj.compute()"
   ]
  },
  {
   "cell_type": "code",
   "execution_count": null,
   "metadata": {},
   "outputs": [],
   "source": [
    "obj.evaluate(R,True);\n",
    "plt.title('Sala de Controle Sem Tratamento na Posição de Audição | S = [$\\pm$1,2.25,1.2] m')\n",
    "plt.xticks([20,40,60,80,100,120,160,200],[20,40,60,80,100,120,160,200]);\n"
   ]
  },
  {
   "cell_type": "code",
   "execution_count": null,
   "metadata": {},
   "outputs": [],
   "source": [
    "obj.pressure_field(frequencies = 70, renderer='notebook',saveFig=True,camera_angles=['diagonal_front'])"
   ]
  },
  {
   "cell_type": "markdown",
   "metadata": {},
   "source": [
    "## Absorvedor de Membrana de 70Hz"
   ]
  },
  {
   "cell_type": "code",
   "execution_count": null,
   "metadata": {},
   "outputs": [],
   "source": [
    "tmm70 = fd.TMM(fmin=20,fmax=200,df=1, incidence='normal')\n",
    "tmm70.membrane_layer(t=2,rho=1800)\n",
    "tmm70.air_layer(t=10)\n",
    "tmm70.porous_layer(model='miki', t=150, sigma=15)\n",
    "tmm70.compute(rigid_backing=True, show_layers=True, conj=False)\n",
    "tmm70.plot(figsize=(7, 5), plots=['alpha'], saveFig=False, timestamp=False, filename='membrane_70')"
   ]
  },
  {
   "cell_type": "markdown",
   "metadata": {},
   "source": [
    "## Absorvedor de Membrana de 113Hz"
   ]
  },
  {
   "cell_type": "code",
   "execution_count": null,
   "metadata": {},
   "outputs": [],
   "source": [
    "tmm113 = fd.TMM(fmin=20,fmax=200,df=1, incidence='normal')\n",
    "tmm113.membrane_layer(t=2,rho=1000)\n",
    "tmm113.air_layer(t=8)\n",
    "tmm113.porous_layer(model='miki', t=100, sigma=15)\n",
    "tmm113.compute(rigid_backing=True, show_layers=True, conj=False)\n",
    "tmm113.plot(figsize=(7, 5), plots=['alpha'], saveFig=False, timestamp=False, filename='mebrane_113')\n"
   ]
  },
  {
   "cell_type": "markdown",
   "metadata": {},
   "source": [
    "# Sala de Controle com membranas aplicadas"
   ]
  },
  {
   "cell_type": "code",
   "execution_count": null,
   "metadata": {},
   "outputs": [],
   "source": [
    "path_to_geo_treat = \"Geom/room_treat.geo\"\n",
    "BC_treat = fd.BC(AC,AP)\n",
    "BC_treat.normalized_admittance(2,0.02)\n",
    "BC_treat.TMM(4,tmm70)\n",
    "BC_treat.TMM(3,tmm113)\n",
    "grid_treat = fd.GridImport3D(AP,path_to_geo_treat,S,R,fmax = 200,num_freq=6,scale=1,order=1)\n",
    "obj_treat = fd.FEM3D(grid_treat,S,R,AP,AC,BC_treat)"
   ]
  },
  {
   "cell_type": "code",
   "execution_count": null,
   "metadata": {},
   "outputs": [],
   "source": [
    "obj_treat.plot_problem(renderer='notebook',saveFig=False,camera_angles=['diagonal_front'],extension='png')"
   ]
  },
  {
   "cell_type": "code",
   "execution_count": null,
   "metadata": {},
   "outputs": [],
   "source": [
    "obj_treat.compute()"
   ]
  },
  {
   "cell_type": "code",
   "execution_count": null,
   "metadata": {},
   "outputs": [],
   "source": [
    "obj_treat.evaluate(R,True);\n",
    "plt.title('Sala de Controle Com Tratamento na Posição de Audição | S = [$\\pm$1,2.25,1.2] m')\n",
    "plt.xticks([20,40,60,80,100,120,160,200],[20,40,60,80,100,120,160,200]);"
   ]
  },
  {
   "cell_type": "code",
   "execution_count": null,
   "metadata": {},
   "outputs": [],
   "source": [
    "obj_treat.pressure_field(frequencies = 70,saveFig= True,camera_angles=['diagonal_front'])"
   ]
  }
 ],
 "metadata": {
  "kernelspec": {
   "display_name": "Python 3",
   "language": "python",
   "name": "python3"
  },
  "language_info": {
   "codemirror_mode": {
    "name": "ipython",
    "version": 3
   },
   "file_extension": ".py",
   "mimetype": "text/x-python",
   "name": "python",
   "nbconvert_exporter": "python",
   "pygments_lexer": "ipython3",
   "version": "3.6.12"
  }
 },
 "nbformat": 4,
 "nbformat_minor": 4
}
